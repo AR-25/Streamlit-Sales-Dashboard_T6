{
  "nbformat": 4,
  "nbformat_minor": 0,
  "metadata": {
    "colab": {
      "provenance": []
    },
    "kernelspec": {
      "name": "python3",
      "display_name": "Python 3"
    },
    "language_info": {
      "name": "python"
    }
  },
  "cells": [
    {
      "cell_type": "code",
      "execution_count": 1,
      "metadata": {
        "colab": {
          "base_uri": "https://localhost:8080/"
        },
        "id": "jJSPzfO7Okbx",
        "outputId": "20a6d7da-7e6e-4b4a-ba99-041376cce5ad"
      },
      "outputs": [
        {
          "output_type": "stream",
          "name": "stdout",
          "text": [
            "Collecting streamlit\n",
            "  Downloading streamlit-1.50.0-py3-none-any.whl.metadata (9.5 kB)\n",
            "Requirement already satisfied: pandas in /usr/local/lib/python3.12/dist-packages (2.2.2)\n",
            "Collecting plotly-express\n",
            "  Downloading plotly_express-0.4.1-py2.py3-none-any.whl.metadata (1.7 kB)\n",
            "Collecting pyngrok\n",
            "  Downloading pyngrok-7.4.0-py3-none-any.whl.metadata (8.1 kB)\n",
            "Requirement already satisfied: altair!=5.4.0,!=5.4.1,<6,>=4.0 in /usr/local/lib/python3.12/dist-packages (from streamlit) (5.5.0)\n",
            "Requirement already satisfied: blinker<2,>=1.5.0 in /usr/local/lib/python3.12/dist-packages (from streamlit) (1.9.0)\n",
            "Requirement already satisfied: cachetools<7,>=4.0 in /usr/local/lib/python3.12/dist-packages (from streamlit) (5.5.2)\n",
            "Requirement already satisfied: click<9,>=7.0 in /usr/local/lib/python3.12/dist-packages (from streamlit) (8.2.1)\n",
            "Requirement already satisfied: numpy<3,>=1.23 in /usr/local/lib/python3.12/dist-packages (from streamlit) (2.0.2)\n",
            "Requirement already satisfied: packaging<26,>=20 in /usr/local/lib/python3.12/dist-packages (from streamlit) (25.0)\n",
            "Requirement already satisfied: pillow<12,>=7.1.0 in /usr/local/lib/python3.12/dist-packages (from streamlit) (11.3.0)\n",
            "Requirement already satisfied: protobuf<7,>=3.20 in /usr/local/lib/python3.12/dist-packages (from streamlit) (5.29.5)\n",
            "Requirement already satisfied: pyarrow>=7.0 in /usr/local/lib/python3.12/dist-packages (from streamlit) (18.1.0)\n",
            "Requirement already satisfied: requests<3,>=2.27 in /usr/local/lib/python3.12/dist-packages (from streamlit) (2.32.4)\n",
            "Requirement already satisfied: tenacity<10,>=8.1.0 in /usr/local/lib/python3.12/dist-packages (from streamlit) (8.5.0)\n",
            "Requirement already satisfied: toml<2,>=0.10.1 in /usr/local/lib/python3.12/dist-packages (from streamlit) (0.10.2)\n",
            "Requirement already satisfied: typing-extensions<5,>=4.4.0 in /usr/local/lib/python3.12/dist-packages (from streamlit) (4.15.0)\n",
            "Requirement already satisfied: watchdog<7,>=2.1.5 in /usr/local/lib/python3.12/dist-packages (from streamlit) (6.0.0)\n",
            "Requirement already satisfied: gitpython!=3.1.19,<4,>=3.0.7 in /usr/local/lib/python3.12/dist-packages (from streamlit) (3.1.45)\n",
            "Collecting pydeck<1,>=0.8.0b4 (from streamlit)\n",
            "  Downloading pydeck-0.9.1-py2.py3-none-any.whl.metadata (4.1 kB)\n",
            "Requirement already satisfied: tornado!=6.5.0,<7,>=6.0.3 in /usr/local/lib/python3.12/dist-packages (from streamlit) (6.4.2)\n",
            "Requirement already satisfied: python-dateutil>=2.8.2 in /usr/local/lib/python3.12/dist-packages (from pandas) (2.9.0.post0)\n",
            "Requirement already satisfied: pytz>=2020.1 in /usr/local/lib/python3.12/dist-packages (from pandas) (2025.2)\n",
            "Requirement already satisfied: tzdata>=2022.7 in /usr/local/lib/python3.12/dist-packages (from pandas) (2025.2)\n",
            "Requirement already satisfied: plotly>=4.1.0 in /usr/local/lib/python3.12/dist-packages (from plotly-express) (5.24.1)\n",
            "Requirement already satisfied: statsmodels>=0.9.0 in /usr/local/lib/python3.12/dist-packages (from plotly-express) (0.14.5)\n",
            "Requirement already satisfied: scipy>=0.18 in /usr/local/lib/python3.12/dist-packages (from plotly-express) (1.16.2)\n",
            "Requirement already satisfied: patsy>=0.5 in /usr/local/lib/python3.12/dist-packages (from plotly-express) (1.0.1)\n",
            "Requirement already satisfied: PyYAML>=5.1 in /usr/local/lib/python3.12/dist-packages (from pyngrok) (6.0.2)\n",
            "Requirement already satisfied: jinja2 in /usr/local/lib/python3.12/dist-packages (from altair!=5.4.0,!=5.4.1,<6,>=4.0->streamlit) (3.1.6)\n",
            "Requirement already satisfied: jsonschema>=3.0 in /usr/local/lib/python3.12/dist-packages (from altair!=5.4.0,!=5.4.1,<6,>=4.0->streamlit) (4.25.1)\n",
            "Requirement already satisfied: narwhals>=1.14.2 in /usr/local/lib/python3.12/dist-packages (from altair!=5.4.0,!=5.4.1,<6,>=4.0->streamlit) (2.5.0)\n",
            "Requirement already satisfied: gitdb<5,>=4.0.1 in /usr/local/lib/python3.12/dist-packages (from gitpython!=3.1.19,<4,>=3.0.7->streamlit) (4.0.12)\n",
            "Requirement already satisfied: six>=1.5 in /usr/local/lib/python3.12/dist-packages (from python-dateutil>=2.8.2->pandas) (1.17.0)\n",
            "Requirement already satisfied: charset_normalizer<4,>=2 in /usr/local/lib/python3.12/dist-packages (from requests<3,>=2.27->streamlit) (3.4.3)\n",
            "Requirement already satisfied: idna<4,>=2.5 in /usr/local/lib/python3.12/dist-packages (from requests<3,>=2.27->streamlit) (3.10)\n",
            "Requirement already satisfied: urllib3<3,>=1.21.1 in /usr/local/lib/python3.12/dist-packages (from requests<3,>=2.27->streamlit) (2.5.0)\n",
            "Requirement already satisfied: certifi>=2017.4.17 in /usr/local/lib/python3.12/dist-packages (from requests<3,>=2.27->streamlit) (2025.8.3)\n",
            "Requirement already satisfied: smmap<6,>=3.0.1 in /usr/local/lib/python3.12/dist-packages (from gitdb<5,>=4.0.1->gitpython!=3.1.19,<4,>=3.0.7->streamlit) (5.0.2)\n",
            "Requirement already satisfied: MarkupSafe>=2.0 in /usr/local/lib/python3.12/dist-packages (from jinja2->altair!=5.4.0,!=5.4.1,<6,>=4.0->streamlit) (3.0.2)\n",
            "Requirement already satisfied: attrs>=22.2.0 in /usr/local/lib/python3.12/dist-packages (from jsonschema>=3.0->altair!=5.4.0,!=5.4.1,<6,>=4.0->streamlit) (25.3.0)\n",
            "Requirement already satisfied: jsonschema-specifications>=2023.03.6 in /usr/local/lib/python3.12/dist-packages (from jsonschema>=3.0->altair!=5.4.0,!=5.4.1,<6,>=4.0->streamlit) (2025.9.1)\n",
            "Requirement already satisfied: referencing>=0.28.4 in /usr/local/lib/python3.12/dist-packages (from jsonschema>=3.0->altair!=5.4.0,!=5.4.1,<6,>=4.0->streamlit) (0.36.2)\n",
            "Requirement already satisfied: rpds-py>=0.7.1 in /usr/local/lib/python3.12/dist-packages (from jsonschema>=3.0->altair!=5.4.0,!=5.4.1,<6,>=4.0->streamlit) (0.27.1)\n",
            "Downloading streamlit-1.50.0-py3-none-any.whl (10.1 MB)\n",
            "\u001b[2K   \u001b[90m━━━━━━━━━━━━━━━━━━━━━━━━━━━━━━━━━━━━━━━━\u001b[0m \u001b[32m10.1/10.1 MB\u001b[0m \u001b[31m72.7 MB/s\u001b[0m eta \u001b[36m0:00:00\u001b[0m\n",
            "\u001b[?25hDownloading plotly_express-0.4.1-py2.py3-none-any.whl (2.9 kB)\n",
            "Downloading pyngrok-7.4.0-py3-none-any.whl (25 kB)\n",
            "Downloading pydeck-0.9.1-py2.py3-none-any.whl (6.9 MB)\n",
            "\u001b[2K   \u001b[90m━━━━━━━━━━━━━━━━━━━━━━━━━━━━━━━━━━━━━━━━\u001b[0m \u001b[32m6.9/6.9 MB\u001b[0m \u001b[31m119.5 MB/s\u001b[0m eta \u001b[36m0:00:00\u001b[0m\n",
            "\u001b[?25hInstalling collected packages: pyngrok, pydeck, plotly-express, streamlit\n",
            "Successfully installed plotly-express-0.4.1 pydeck-0.9.1 pyngrok-7.4.0 streamlit-1.50.0\n"
          ]
        }
      ],
      "source": [
        "!pip install streamlit pandas plotly-express pyngrok"
      ]
    },
    {
      "cell_type": "code",
      "source": [
        "%%writefile app.py\n",
        "\n",
        "import streamlit as st\n",
        "import pandas as pd\n",
        "import plotly.express as px\n",
        "\n",
        "# --- PAGE CONFIGURATION ---\n",
        "st.set_page_config(\n",
        "    page_title=\"Supermarket Sales Dashboard\",\n",
        "    page_icon=\"🛒\",\n",
        "    layout=\"wide\"\n",
        ")\n",
        "\n",
        "# --- DATA LOADING AND CLEANING ---\n",
        "@st.cache_data\n",
        "def load_data():\n",
        "    df = pd.read_csv('supermarket_sales.csv')\n",
        "    df['Date'] = pd.to_datetime(df['Date'])\n",
        "    df['Time'] = pd.to_datetime(df['Time'], format='%H:%M').dt.time\n",
        "    # Rename 'gross income' for easier access\n",
        "    df.rename(columns={'gross income': 'Gross_Income'}, inplace=True)\n",
        "    return df\n",
        "\n",
        "df = load_data()\n",
        "\n",
        "# --- SIDEBAR FOR FILTERS ---\n",
        "st.sidebar.header(\"Filter Your Data\")\n",
        "\n",
        "city = st.sidebar.multiselect(\n",
        "    \"Select City:\",\n",
        "    options=df[\"City\"].unique(),\n",
        "    default=df[\"City\"].unique()\n",
        ")\n",
        "\n",
        "customer_type = st.sidebar.multiselect(\n",
        "    \"Select Customer Type:\",\n",
        "    options=df[\"Customer type\"].unique(),\n",
        "    default=df[\"Customer type\"].unique()\n",
        ")\n",
        "\n",
        "# Filter the dataframe based on selection\n",
        "df_selection = df.query(\n",
        "    \"City == @city and `Customer type` == @customer_type\"\n",
        ")\n",
        "\n",
        "# --- MAIN PAGE ---\n",
        "st.title(\"🛒 Supermarket Sales Dashboard\")\n",
        "st.markdown(\"##\")\n",
        "\n",
        "# --- KEY METRICS (KPIs) ---\n",
        "total_sales = int(df_selection[\"Total\"].sum())\n",
        "average_rating = round(df_selection[\"Rating\"].mean(), 1)\n",
        "total_gross_income = int(df_selection[\"Gross_Income\"].sum())\n",
        "\n",
        "left_column, middle_column, right_column = st.columns(3)\n",
        "with left_column:\n",
        "    st.subheader(\"Total Sales:\")\n",
        "    st.subheader(f\"US $ {total_sales:,}\")\n",
        "with middle_column:\n",
        "    st.subheader(\"Average Rating:\")\n",
        "    st.subheader(f\"{average_rating} ⭐\")\n",
        "with right_column:\n",
        "    st.subheader(\"Total Gross Income:\")\n",
        "    st.subheader(f\"US $ {total_gross_income:,}\")\n",
        "\n",
        "st.markdown(\"---\")\n",
        "\n",
        "# --- CHARTS ---\n",
        "\n",
        "# Sales by Product Line (Bar Chart)\n",
        "sales_by_product_line = df_selection.groupby(\"Product line\")[\"Total\"].sum().sort_values()\n",
        "fig_product_sales = px.bar(\n",
        "    sales_by_product_line,\n",
        "    x=sales_by_product_line.values,\n",
        "    y=sales_by_product_line.index,\n",
        "    orientation=\"h\",\n",
        "    title=\"<b>Sales by Product Line</b>\",\n",
        "    template=\"plotly_white\"\n",
        ")\n",
        "fig_product_sales.update_layout(\n",
        "    plot_bgcolor=\"rgba(0,0,0,0)\",\n",
        "    xaxis_title=\"Total Sales\",\n",
        "    yaxis_title=\"Product Line\"\n",
        ")\n",
        "\n",
        "# Gross Income by Product Line (Bar Chart)\n",
        "gross_income_by_product_line = df_selection.groupby(\"Product line\")[\"Gross_Income\"].sum().sort_values()\n",
        "fig_gross_income = px.bar(\n",
        "    gross_income_by_product_line,\n",
        "    x=gross_income_by_product_line.values,\n",
        "    y=gross_income_by_product_line.index,\n",
        "    orientation=\"h\",\n",
        "    title=\"<b>Gross Income by Product Line</b>\",\n",
        "    template=\"plotly_white\"\n",
        ")\n",
        "fig_gross_income.update_layout(\n",
        "    plot_bgcolor=\"rgba(0,0,0,0)\",\n",
        "    xaxis_title=\"Total Gross Income\",\n",
        "    yaxis_title=\"Product Line\"\n",
        ")\n",
        "\n",
        "# Place charts side-by-side\n",
        "left_chart, right_chart = st.columns(2)\n",
        "left_chart.plotly_chart(fig_product_sales, use_container_width=True)\n",
        "right_chart.plotly_chart(fig_gross_income, use_container_width=True)"
      ],
      "metadata": {
        "colab": {
          "base_uri": "https://localhost:8080/"
        },
        "id": "tu0XPHW2PRiX",
        "outputId": "520b9fdf-399a-477c-d363-078ee129c30b"
      },
      "execution_count": 2,
      "outputs": [
        {
          "output_type": "stream",
          "name": "stdout",
          "text": [
            "Writing app.py\n"
          ]
        }
      ]
    },
    {
      "cell_type": "code",
      "source": [
        "from pyngrok import ngrok\n",
        "\n",
        "# Terminate any existing ngrok tunnels\n",
        "ngrok.kill()\n",
        "\n",
        "# Set up the ngrok tunnel to the streamlit port\n",
        "\n",
        "NGROK_AUTH_TOKEN = \"@HIDING_THE_NGROK_AUTH_TOKEN\"\n",
        "ngrok.set_auth_token(NGROK_AUTH_TOKEN)\n",
        "\n",
        "# Run the streamlit app in the background\n",
        "!streamlit run app.py &>/dev/null &\n",
        "\n",
        "# Open a tunnel to the streamlit port\n",
        "public_url = ngrok.connect(8501)\n",
        "print(\"Click the link to view your dashboard:\")\n",
        "print(public_url)"
      ],
      "metadata": {
        "colab": {
          "base_uri": "https://localhost:8080/"
        },
        "id": "-Sif_J3fPab8",
        "outputId": "1e6ac928-85c4-49ad-ed3c-65ec72079ae4"
      },
      "execution_count": 4,
      "outputs": [
        {
          "output_type": "stream",
          "name": "stdout",
          "text": [
            "Click the link to view your dashboard:\n",
            "NgrokTunnel: \"https://696d9367800f.ngrok-free.app\" -> \"http://localhost:8501\"\n"
          ]
        }
      ]
    },
    {
      "cell_type": "code",
      "source": [],
      "metadata": {
        "id": "R4o79m4KPc7s"
      },
      "execution_count": null,
      "outputs": []
    }
  ]
}